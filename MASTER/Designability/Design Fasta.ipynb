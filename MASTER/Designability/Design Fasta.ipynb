{
 "cells": [
  {
   "cell_type": "code",
   "execution_count": 8,
   "id": "40a23f5d",
   "metadata": {},
   "outputs": [],
   "source": [
    "import gzip\n",
    "\n",
    "# Processes a fasta file into two lists. One of headers and a second list of seqeunces\n",
    "# This is taken from Leonard McMillan at UNC (2022)\n",
    "def loadFasta(filename):\n",
    "    if (filename.endswith(\".gz\")):\n",
    "        fp = gzip.open(filename, 'r')\n",
    "    else:\n",
    "        fp = open(filename, 'r')\n",
    "    # split at headers\n",
    "    data = fp.read().split('>')\n",
    "    fp.close()\n",
    "    # ignore whatever appears before the 1st header\n",
    "    data.pop(0)     \n",
    "    headers = []\n",
    "    sequences = []\n",
    "    for sequence in data:\n",
    "        lines = sequence.split('\\n')\n",
    "        headers.append(lines.pop(0))\n",
    "        # add an extra \"+\" to make string \"1-referenced\"\n",
    "        sequences.append(''.join(lines))\n",
    "    return (headers, sequences)\n",
    "\n"
   ]
  },
  {
   "cell_type": "code",
   "execution_count": 52,
   "id": "b69eda86",
   "metadata": {},
   "outputs": [],
   "source": [
    "# creates a Fasta file given the header of names and the sequences that follow.\n",
    "# header and sequence must be the same length. \n",
    "def createFasta(header, seq):\n",
    "    sequences = \"\"\n",
    "    for i in range(0,len(header)):\n",
    "        sequence = \">\" + header[i] + \" \\n\" +seq[i] +\"\\n\"\n",
    "        sequences += sequence\n",
    "    return sequences"
   ]
  },
  {
   "cell_type": "code",
   "execution_count": 60,
   "id": "7db861a5",
   "metadata": {},
   "outputs": [
    {
     "name": "stdout",
     "output_type": "stream",
     "text": [
      "4567\n"
     ]
    }
   ],
   "source": [
    "header, seq = loadFasta(\"./mutate03_penetratin_dimer02/dimer02_sequences.fasta\")\n",
    "count = 0\n",
    "new_header = [] \n",
    "new_pene_seq = []\n",
    "new_struc_seq = []\n",
    "for i in range (0,len(seq)):\n",
    "    if (\"R\" in seq[i][3]):\n",
    "        new_header.append(header[i])\n",
    "        new_pene_seq.append(seq[i][:7])\n",
    "        new_struc_seq.append(seq[i][7:])\n",
    "\n",
    "print(len(header))\n",
    "        \n",
    "pene_data = createFasta(new_header,new_pene_seq)\n",
    "savePeneFasta = open(r'./mutate03_penetratin_dimer02/new_dimer02_pene_sequences.fasta','w+')\n",
    "savePeneFasta.write(pene_data)\n",
    "savePeneFasta.close()\n",
    "\n",
    "struc_data = createFasta(new_header,new_struc_seq)\n",
    "saveStrucFasta = open(r'./mutate03_penetratin_dimer02/new_dimer02_struc_sequences.fasta','w+')\n",
    "saveStrucFasta.write(struc_data)\n",
    "saveStrucFasta.close()"
   ]
  },
  {
   "cell_type": "code",
   "execution_count": null,
   "id": "762b3841",
   "metadata": {},
   "outputs": [],
   "source": []
  }
 ],
 "metadata": {
  "kernelspec": {
   "display_name": "Python 3 (ipykernel)",
   "language": "python",
   "name": "python3"
  },
  "language_info": {
   "codemirror_mode": {
    "name": "ipython",
    "version": 3
   },
   "file_extension": ".py",
   "mimetype": "text/x-python",
   "name": "python",
   "nbconvert_exporter": "python",
   "pygments_lexer": "ipython3",
   "version": "3.10.4"
  }
 },
 "nbformat": 4,
 "nbformat_minor": 5
}
